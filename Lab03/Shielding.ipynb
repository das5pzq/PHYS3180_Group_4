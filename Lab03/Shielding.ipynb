{
 "cells": [
  {
   "cell_type": "code",
   "execution_count": 1,
   "id": "3df2a0dd-6fab-4103-9cb4-5a5f336d7a85",
   "metadata": {},
   "outputs": [],
   "source": [
    "#Import Packages\n",
    "##Import Packages\n",
    "import numpy as np\n",
    "import pandas as pd\n",
    "import matplotlib.pyplot as plt\n",
    "import seaborn as sns\n",
    "import scipy\n",
    "\n",
    "from scipy.signal import find_peaks"
   ]
  },
  {
   "cell_type": "code",
   "execution_count": null,
   "id": "b73e5529-0de3-4c61-be67-e50b95334467",
   "metadata": {},
   "outputs": [],
   "source": [
    "clock_bkg = pd.read_csv(\"Data/Other/Clock_Background.csv\", skiprows=21, engine=\"python\") # names=init_run_cols,\n",
    "\n",
    "clock_bkg[\"Norm_Counts\"] = clock_bkg[\"Counts\"].copy() / 91645.6\n",
    "clock_bkg[\"Norm_Error\"] = (clock_bkg[\"Counts\"].copy())**0.5 / (91645.6)\n",
    "\n",
    "clock_bkg"
   ]
  }
 ],
 "metadata": {
  "kernelspec": {
   "display_name": "Python 3 (ipykernel)",
   "language": "python",
   "name": "python3"
  },
  "language_info": {
   "codemirror_mode": {
    "name": "ipython",
    "version": 3
   },
   "file_extension": ".py",
   "mimetype": "text/x-python",
   "name": "python",
   "nbconvert_exporter": "python",
   "pygments_lexer": "ipython3",
   "version": "3.8.8"
  }
 },
 "nbformat": 4,
 "nbformat_minor": 5
}
