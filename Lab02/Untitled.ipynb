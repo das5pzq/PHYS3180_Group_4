{
 "cells": [
  {
   "cell_type": "code",
   "execution_count": 1,
   "id": "ac26d894-3a53-45d9-8a93-6f63274aad50",
   "metadata": {},
   "outputs": [],
   "source": [
    "#Import Packages\n",
    "##Import Packages\n",
    "import numpy as np\n",
    "import pandas as pd\n",
    "import matplotlib.pyplot as plt\n",
    "import seaborn as sns\n",
    "import scipy\n",
    "\n",
    "from scipy.signal import find_peaks"
   ]
  },
  {
   "cell_type": "code",
   "execution_count": null,
   "id": "08fc909b-37f0-4669-ba02-11bd31b0e54f",
   "metadata": {},
   "outputs": [],
   "source": [
    "#Get Data\n",
    "cols = [\"frequency\", \"out_in\", \"V_out\", \"V_in\"]\n",
    "raw_data1 = pd.read_csv(\"DataFiles/Day_2_37pf.csv\", delimiter=\"\\t\", names=cols)\n",
    "background = pd.read_csv(\"DataFiles/Gang_4_Pedastal_180sec_Amp150.csv\", delimiter=\"\\t\", names=cols)\n",
    "\n",
    "\n",
    "raw_data1"
   ]
  }
 ],
 "metadata": {
  "kernelspec": {
   "display_name": "Python 3 (ipykernel)",
   "language": "python",
   "name": "python3"
  },
  "language_info": {
   "codemirror_mode": {
    "name": "ipython",
    "version": 3
   },
   "file_extension": ".py",
   "mimetype": "text/x-python",
   "name": "python",
   "nbconvert_exporter": "python",
   "pygments_lexer": "ipython3",
   "version": "3.8.8"
  }
 },
 "nbformat": 4,
 "nbformat_minor": 5
}
